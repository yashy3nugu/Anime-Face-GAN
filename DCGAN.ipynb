{
 "cells": [
  {
   "cell_type": "code",
   "execution_count": 1,
   "metadata": {},
   "outputs": [],
   "source": [
    "import tensorflow as tf\n",
    "from tensorflow import keras\n",
    "from tensorflow.keras.layers import Input, Reshape, Dropout, Dense \n",
    "from tensorflow.keras.layers import Flatten, BatchNormalization\n",
    "from tensorflow.keras.layers import Activation, ZeroPadding2D\n",
    "from tensorflow.keras.layers import LeakyReLU , ReLU\n",
    "from tensorflow.keras.layers import UpSampling2D, Conv2D ,Conv2DTranspose\n",
    "from tensorflow.keras.models import Sequential, Model, load_model\n",
    "from tensorflow.keras.optimizers import Adam\n",
    "import numpy as np\n",
    "from PIL import Image\n",
    "from tqdm import tqdm\n",
    "import os \n",
    "import time\n",
    "import matplotlib.pyplot as plt\n",
    "from utils.callbacks import save_images, checkpoint_callback"
   ]
  },
  {
   "cell_type": "code",
   "execution_count": 2,
   "metadata": {},
   "outputs": [
    {
     "name": "stdout",
     "output_type": "stream",
     "text": [
      "using GPU\n"
     ]
    }
   ],
   "source": [
    "gpus = tf.config.experimental.list_physical_devices('GPU')\n",
    "if gpus:\n",
    "    # Restrict TensorFlow to only use the GPU\n",
    "    try:\n",
    "        tf.config.experimental.set_visible_devices(gpus[0], 'GPU')\n",
    "        print(\"using GPU\")\n",
    "    except RuntimeError as e:\n",
    "        print(e)"
   ]
  },
  {
   "cell_type": "markdown",
   "metadata": {},
   "source": [
    "<h1>Load dataset</h1>"
   ]
  },
  {
   "cell_type": "code",
   "execution_count": 3,
   "metadata": {},
   "outputs": [],
   "source": [
    "data_path = \"data/\""
   ]
  },
  {
   "cell_type": "code",
   "execution_count": 4,
   "metadata": {},
   "outputs": [
    {
     "name": "stdout",
     "output_type": "stream",
     "text": [
      "Found 21551 files belonging to 1 classes.\n"
     ]
    }
   ],
   "source": [
    "train_ds = tf.keras.preprocessing.image_dataset_from_directory(\n",
    "    data_path, \n",
    "    label_mode=None, \n",
    "    color_mode='rgb',\n",
    "    batch_size=32,\n",
    "    image_size=(64, 64),\n",
    "    shuffle=True\n",
    ")\n",
    "\n",
    "train_ds = train_ds.map(lambda x: ((x/127.5)-1))"
   ]
  },
  {
   "cell_type": "markdown",
   "metadata": {},
   "source": [
    "<h1>Define Model</h1>"
   ]
  },
  {
   "cell_type": "code",
   "execution_count": 5,
   "metadata": {},
   "outputs": [],
   "source": [
    "init = tf.keras.initializers.RandomNormal(stddev=0.02)"
   ]
  },
  {
   "cell_type": "code",
   "execution_count": 6,
   "metadata": {},
   "outputs": [],
   "source": [
    "def build_generator(seed_size):\n",
    "    model = Sequential()\n",
    "  \n",
    "    model.add(Dense(4*4*1024,kernel_initializer=init,input_dim=seed_size))\n",
    "    model.add(BatchNormalization())\n",
    "    model.add(ReLU())\n",
    "    model.add(Reshape((4,4,1024))) \n",
    "\n",
    "    model.add(Conv2DTranspose(512,kernel_size=5,strides=2,padding='same',use_bias=False,kernel_initializer=init))\n",
    "    model.add(BatchNormalization())\n",
    "    model.add(ReLU())  \n",
    "\n",
    "    model.add(Conv2DTranspose(256,kernel_size=5,strides=2,padding='same',use_bias=False,kernel_initializer=init))\n",
    "    model.add(BatchNormalization())\n",
    "    model.add(ReLU()) \n",
    "\n",
    "    model.add(Conv2DTranspose(128,kernel_size=3,strides=2,padding='same',use_bias=False,kernel_initializer=init))\n",
    "    model.add(BatchNormalization())\n",
    "    model.add(ReLU()) \n",
    "\n",
    "    model.add(Conv2DTranspose(3,kernel_size=3,strides=2,padding='same',use_bias=False,kernel_initializer=init))\n",
    "    model.add(Activation('tanh'))\n",
    "\n",
    "    return model"
   ]
  },
  {
   "cell_type": "code",
   "execution_count": 7,
   "metadata": {},
   "outputs": [],
   "source": [
    "def build_discriminator(image_length,image_channels):\n",
    "    model = Sequential()\n",
    "  \n",
    "    model.add(Conv2D(64,kernel_size=3,strides=2,padding='same',use_bias=False,input_shape=(image_length,image_length,image_channels),kernel_initializer=init))\n",
    "    model.add(BatchNormalization())\n",
    "    model.add(LeakyReLU(alpha=0.2)) #32,32,64\n",
    "\n",
    "    model.add(Conv2D(128,kernel_size=3,strides=2,padding='same',use_bias=False,kernel_initializer=init))\n",
    "    model.add(BatchNormalization())\n",
    "    model.add(LeakyReLU(alpha=0.2)) #16,16,128\n",
    "\n",
    "    model.add(Conv2D(256,kernel_size=5,strides=2,padding='same',use_bias=False,kernel_initializer=init))\n",
    "    model.add(BatchNormalization())\n",
    "    model.add(LeakyReLU(alpha=0.2)) #8,8,256\n",
    "\n",
    "    model.add(Conv2D(512,kernel_size=5,strides=2,padding='same',use_bias=False,kernel_initializer=init))\n",
    "    model.add(BatchNormalization())\n",
    "    model.add(LeakyReLU(alpha=0.2)) #4,4,512\n",
    "\n",
    "    model.add(Conv2D(1,kernel_size=4,strides=1,padding='valid',use_bias=False,kernel_initializer=init))\n",
    "    model.add(Flatten())\n",
    "    model.add(Activation('sigmoid'))\n",
    "\n",
    "    return model"
   ]
  },
  {
   "cell_type": "markdown",
   "metadata": {},
   "source": [
    "<h1>Define Loss</h1>"
   ]
  },
  {
   "cell_type": "code",
   "execution_count": 8,
   "metadata": {},
   "outputs": [],
   "source": [
    "cross_entropy = tf.keras.losses.BinaryCrossentropy()"
   ]
  },
  {
   "cell_type": "markdown",
   "metadata": {},
   "source": [
    "<h1>Define Train step</h1>"
   ]
  },
  {
   "cell_type": "code",
   "execution_count": 9,
   "metadata": {},
   "outputs": [],
   "source": [
    "class DCGAN(keras.Model):\n",
    "    def __init__(self,seed_size,image_length,image_channels,**kwargs):\n",
    "        super(DCGAN,self).__init__(**kwargs)\n",
    "\n",
    "        self.generator = build_generator(seed_size)\n",
    "        self.discriminator = build_discriminator(image_length,image_channels)\n",
    "        self.seed_size = seed_size\n",
    "        \n",
    "    def generator_loss(self,fake_output):\n",
    "        # Train generator to give realistic images and penalize it for giving images being classified as fake by the discriminator\n",
    "        return cross_entropy(tf.ones_like(fake_output), fake_output)\n",
    "\n",
    "    def discriminator_loss(self,real_output, fake_output):\n",
    "        # Train the discriminator to give 1 on real images and 0 on fake ones\n",
    "        real_loss = cross_entropy(tf.ones_like(real_output), real_output) \n",
    "        fake_loss = cross_entropy(tf.zeros_like(fake_output), fake_output)\n",
    "        total_loss = real_loss + fake_loss\n",
    "        return total_loss\n",
    "    \n",
    "    def compile(self,generator_optimizer,discriminator_optimizer):\n",
    "        super(DCGAN, self).compile()\n",
    "        self.generator_optimizer = generator_optimizer\n",
    "        self.discriminator_optimizer = discriminator_optimizer\n",
    "        \n",
    "    @tf.function    \n",
    "    def train_step(self,data):\n",
    "        if isinstance(data, tuple):\n",
    "            data = data[0]\n",
    "            \n",
    "        batch_size = tf.shape(data)[0]\n",
    "        seed = tf.random.normal(shape=(batch_size,self.seed_size))\n",
    "        \n",
    "        with tf.GradientTape() as gen_tape, tf.GradientTape() as disc_tape:\n",
    "            #generate image using generator\n",
    "            generated_image = self.generator(seed, training = True)\n",
    "        \n",
    "            real_output = self.discriminator(data,training = True) #discriminator's prediction for real image\n",
    "            fake_output = self.discriminator(generated_image,training = True) #discriminator's estimate for fake image\n",
    "            \n",
    "            gen_loss = self.generator_loss(fake_output)\n",
    "            disc_loss = self.discriminator_loss(real_output,fake_output)\n",
    "\n",
    "            #optimize generator first\n",
    "            generator_grad = gen_tape.gradient(gen_loss,self.generator.trainable_variables)\n",
    "            discriminator_grad = disc_tape.gradient(disc_loss,self.discriminator.trainable_variables)\n",
    "\n",
    "            #optimize discriminator after generator\n",
    "            self.generator_optimizer.apply_gradients(zip(generator_grad,self.generator.trainable_variables))\n",
    "            self.discriminator_optimizer.apply_gradients(zip(discriminator_grad,self.discriminator.trainable_variables))\n",
    "        \n",
    "        return {\n",
    "            \"generator loss\": gen_loss,\n",
    "            \"discriminator_loss\": disc_loss\n",
    "        }"
   ]
  },
  {
   "cell_type": "code",
   "execution_count": 10,
   "metadata": {},
   "outputs": [],
   "source": [
    "# parameters and hyperparameters\n",
    "image_length = 64\n",
    "image_channels = 3\n",
    "batch_size = 32\n",
    "seed_size = 128\n",
    "\n",
    "PREVIEW_ROWS = 4  \n",
    "PREVIEW_COLS = 7\n",
    "PREVIEW_MARGIN = 16\n",
    "\n",
    "fixed_seed = tf.random.normal(shape=(PREVIEW_ROWS * PREVIEW_COLS, seed_size))"
   ]
  },
  {
   "cell_type": "code",
   "execution_count": 11,
   "metadata": {},
   "outputs": [],
   "source": [
    "generator_optimizer = Adam(learning_rate=0.0002,beta_1=0.5)\n",
    "discriminator_optimizer = Adam(learning_rate=0.0002,beta_1=0.5)\n",
    "\n",
    "# create an object of the model\n",
    "dcgan = DCGAN(seed_size,image_length,image_channels)\n",
    "dcgan.compile(generator_optimizer,discriminator_optimizer)"
   ]
  },
  {
   "cell_type": "markdown",
   "metadata": {},
   "source": [
    "The model uses two custom callbacks from the file located in \"utils/callbacks.py\""
   ]
  },
  {
   "cell_type": "code",
   "execution_count": null,
   "metadata": {},
   "outputs": [
    {
     "name": "stdout",
     "output_type": "stream",
     "text": [
      "Epoch 1/100\n",
      "674/674 [==============================] - 66s 99ms/step - generator loss: 4.4297 - discriminator_loss: 0.9512\n",
      "Epoch 2/100\n",
      "674/674 [==============================] - 67s 100ms/step - generator loss: 2.2286 - discriminator_loss: 0.8822\n",
      "Epoch 3/100\n",
      "674/674 [==============================] - 67s 99ms/step - generator loss: 2.3831 - discriminator_loss: 0.7250\n",
      "Epoch 4/100\n",
      "674/674 [==============================] - 67s 99ms/step - generator loss: 2.7007 - discriminator_loss: 0.5933\n",
      "Epoch 5/100\n",
      "674/674 [==============================] - 67s 99ms/step - generator loss: 2.9788 - discriminator_loss: 0.5450\n",
      "Epoch 6/100\n",
      "674/674 [==============================] - 67s 99ms/step - generator loss: 2.9438 - discriminator_loss: 0.5661\n",
      "Epoch 7/100\n",
      "674/674 [==============================] - 66s 98ms/step - generator loss: 2.9685 - discriminator_loss: 0.5149\n",
      "Epoch 8/100\n",
      "674/674 [==============================] - 67s 99ms/step - generator loss: 3.0417 - discriminator_loss: 0.5099\n",
      "Epoch 9/100\n",
      "674/674 [==============================] - 66s 99ms/step - generator loss: 3.1592 - discriminator_loss: 0.4943\n",
      "Epoch 10/100\n",
      "674/674 [==============================] - 67s 99ms/step - generator loss: 3.2091 - discriminator_loss: 0.4422\n",
      "Epoch 11/100\n",
      "674/674 [==============================] - 66s 98ms/step - generator loss: 3.3654 - discriminator_loss: 0.4416\n",
      "Epoch 12/100\n",
      "674/674 [==============================] - 66s 98ms/step - generator loss: 3.4258 - discriminator_loss: 0.4111\n",
      "Epoch 13/100\n",
      "674/674 [==============================] - 66s 99ms/step - generator loss: 3.5066 - discriminator_loss: 0.3917\n",
      "Epoch 14/100\n",
      "674/674 [==============================] - 66s 98ms/step - generator loss: 3.5734 - discriminator_loss: 0.4013\n",
      "Epoch 15/100\n",
      "674/674 [==============================] - 67s 99ms/step - generator loss: 3.5853 - discriminator_loss: 0.3453\n",
      "Epoch 16/100\n",
      "674/674 [==============================] - 67s 99ms/step - generator loss: 3.6850 - discriminator_loss: 0.3565\n",
      "Epoch 17/100\n",
      "674/674 [==============================] - 66s 98ms/step - generator loss: 3.7197 - discriminator_loss: 0.3785\n",
      "Epoch 18/100\n",
      "674/674 [==============================] - 67s 99ms/step - generator loss: 3.7811 - discriminator_loss: 0.2924\n",
      "Epoch 19/100\n",
      "674/674 [==============================] - 68s 101ms/step - generator loss: 3.8353 - discriminator_loss: 0.3454\n",
      "Epoch 20/100\n",
      "674/674 [==============================] - 69s 102ms/step - generator loss: 3.9139 - discriminator_loss: 0.2811\n",
      "Epoch 21/100\n",
      "674/674 [==============================] - 68s 100ms/step - generator loss: 3.8170 - discriminator_loss: 0.3731\n",
      "Epoch 22/100\n",
      "674/674 [==============================] - 67s 100ms/step - generator loss: 3.9831 - discriminator_loss: 0.2861\n",
      "Epoch 23/100\n",
      "674/674 [==============================] - 68s 101ms/step - generator loss: 3.8908 - discriminator_loss: 0.3352\n",
      "Epoch 24/100\n",
      "674/674 [==============================] - 67s 99ms/step - generator loss: 4.0589 - discriminator_loss: 0.2894\n",
      "Epoch 25/100\n",
      "674/674 [==============================] - 67s 100ms/step - generator loss: 4.0360 - discriminator_loss: 0.2713\n",
      "Epoch 26/100\n",
      "674/674 [==============================] - 67s 99ms/step - generator loss: 4.1372 - discriminator_loss: 0.2542\n",
      "Epoch 27/100\n",
      "674/674 [==============================] - 67s 99ms/step - generator loss: 4.2159 - discriminator_loss: 0.3269\n",
      "Epoch 28/100\n",
      "674/674 [==============================] - 67s 99ms/step - generator loss: 4.2635 - discriminator_loss: 0.2817\n",
      "Epoch 29/100\n",
      "674/674 [==============================] - 67s 99ms/step - generator loss: 4.2255 - discriminator_loss: 0.2362\n",
      "Epoch 30/100\n",
      "674/674 [==============================] - 67s 99ms/step - generator loss: 4.3796 - discriminator_loss: 0.2577\n",
      "Epoch 31/100\n",
      "674/674 [==============================] - 66s 98ms/step - generator loss: 4.4293 - discriminator_loss: 0.2309\n",
      "Epoch 32/100\n",
      "674/674 [==============================] - 66s 99ms/step - generator loss: 4.5057 - discriminator_loss: 0.2184\n",
      "Epoch 33/100\n",
      "674/674 [==============================] - 66s 98ms/step - generator loss: 4.4388 - discriminator_loss: 0.2507\n",
      "Epoch 34/100\n",
      "674/674 [==============================] - 67s 99ms/step - generator loss: 4.5289 - discriminator_loss: 0.2182\n",
      "Epoch 35/100\n",
      "674/674 [==============================] - 67s 99ms/step - generator loss: 4.5154 - discriminator_loss: 0.2589\n",
      "Epoch 36/100\n",
      "674/674 [==============================] - 67s 99ms/step - generator loss: 4.6746 - discriminator_loss: 0.1921\n",
      "Epoch 37/100\n",
      "674/674 [==============================] - 66s 98ms/step - generator loss: 4.7679 - discriminator_loss: 0.1813\n",
      "Epoch 38/100\n",
      "674/674 [==============================] - 66s 98ms/step - generator loss: 4.6799 - discriminator_loss: 0.2753\n",
      "Epoch 39/100\n",
      "674/674 [==============================] - 67s 99ms/step - generator loss: 4.8755 - discriminator_loss: 0.1153\n",
      "Epoch 40/100\n",
      "674/674 [==============================] - 66s 98ms/step - generator loss: 4.7048 - discriminator_loss: 0.2378\n",
      "Epoch 41/100\n",
      "674/674 [==============================] - 66s 98ms/step - generator loss: 5.0506 - discriminator_loss: 0.1546\n",
      "Epoch 42/100\n",
      "674/674 [==============================] - 66s 98ms/step - generator loss: 4.8603 - discriminator_loss: 0.2556\n",
      "Epoch 43/100\n",
      "674/674 [==============================] - 67s 99ms/step - generator loss: 4.8393 - discriminator_loss: 0.1705\n",
      "Epoch 44/100\n",
      "674/674 [==============================] - 67s 99ms/step - generator loss: 5.0918 - discriminator_loss: 0.1594\n",
      "Epoch 45/100\n",
      "674/674 [==============================] - 67s 99ms/step - generator loss: 4.9313 - discriminator_loss: 0.1767\n",
      "Epoch 46/100\n",
      "674/674 [==============================] - 67s 99ms/step - generator loss: 5.1183 - discriminator_loss: 0.2146\n",
      "Epoch 47/100\n",
      "674/674 [==============================] - 67s 100ms/step - generator loss: 4.9665 - discriminator_loss: 0.1562\n",
      "Epoch 48/100\n",
      "674/674 [==============================] - 67s 99ms/step - generator loss: 4.9966 - discriminator_loss: 0.1847\n",
      "Epoch 49/100\n",
      "674/674 [==============================] - 67s 99ms/step - generator loss: 5.1591 - discriminator_loss: 0.1925\n",
      "Epoch 50/100\n",
      "674/674 [==============================] - ETA: 0s - generator loss: 5.0671 - discriminator_loss: 0.1865"
     ]
    }
   ],
   "source": [
    "with tf.device('/GPU:0'):\n",
    "    history = dcgan.fit(train_ds,epochs=100,batch_size=batch_size,\n",
    "                        callbacks=[\n",
    "                            save_images(noise=fixed_seed,preview_rows=PREVIEW_ROWS,preview_cols=PREVIEW_COLS,preview_margin=PREVIEW_MARGIN),\n",
    "                            checkpoint_callback()\n",
    "                        ])"
   ]
  },
  {
   "cell_type": "code",
   "execution_count": null,
   "metadata": {},
   "outputs": [],
   "source": []
  }
 ],
 "metadata": {
  "kernelspec": {
   "display_name": "Python 3",
   "language": "python",
   "name": "python3"
  },
  "language_info": {
   "codemirror_mode": {
    "name": "ipython",
    "version": 3
   },
   "file_extension": ".py",
   "mimetype": "text/x-python",
   "name": "python",
   "nbconvert_exporter": "python",
   "pygments_lexer": "ipython3",
   "version": "3.8.5"
  }
 },
 "nbformat": 4,
 "nbformat_minor": 4
}
