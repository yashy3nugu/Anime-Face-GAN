{
 "cells": [
  {
   "cell_type": "code",
   "execution_count": 1,
   "metadata": {},
   "outputs": [],
   "source": [
    "import tensorflow as tf\n",
    "from tensorflow import keras\n",
    "from tensorflow.keras.layers import Input, Reshape, Dropout, Dense \n",
    "from tensorflow.keras.layers import Flatten, BatchNormalization\n",
    "from tensorflow.keras.layers import Activation, ZeroPadding2D\n",
    "from tensorflow.keras.layers import LeakyReLU , ReLU\n",
    "from tensorflow.keras.layers import UpSampling2D, Conv2D ,Conv2DTranspose\n",
    "from tensorflow.keras.models import Sequential, Model, load_model\n",
    "from tensorflow.keras.optimizers import Adam\n",
    "import numpy as np\n",
    "from PIL import Image\n",
    "from tqdm import tqdm\n",
    "import os \n",
    "import time\n",
    "import matplotlib.pyplot as plt\n",
    "from utils.callbacks import save_images, checkpoint_callback"
   ]
  },
  {
   "cell_type": "code",
   "execution_count": 2,
   "metadata": {},
   "outputs": [
    {
     "name": "stdout",
     "output_type": "stream",
     "text": [
      "using GPU\n"
     ]
    }
   ],
   "source": [
    "gpus = tf.config.experimental.list_physical_devices('GPU')\n",
    "if gpus:\n",
    "    # Restrict TensorFlow to only use the GPU\n",
    "    try:\n",
    "        tf.config.experimental.set_visible_devices(gpus[0], 'GPU')\n",
    "        print(\"using GPU\")\n",
    "    except RuntimeError as e:\n",
    "        print(e)"
   ]
  },
  {
   "cell_type": "markdown",
   "metadata": {},
   "source": [
    "<h1>Load dataset</h1>"
   ]
  },
  {
   "cell_type": "code",
   "execution_count": 3,
   "metadata": {},
   "outputs": [],
   "source": [
    "data_path = \"data/\""
   ]
  },
  {
   "cell_type": "code",
   "execution_count": 4,
   "metadata": {},
   "outputs": [
    {
     "name": "stdout",
     "output_type": "stream",
     "text": [
      "Found 21551 files belonging to 1 classes.\n"
     ]
    }
   ],
   "source": [
    "train_ds = tf.keras.preprocessing.image_dataset_from_directory(\n",
    "    data_path, \n",
    "    label_mode=None, \n",
    "    color_mode='rgb',\n",
    "    batch_size=128,\n",
    "    image_size=(64, 64),\n",
    "    shuffle=True\n",
    ")\n",
    "\n",
    "train_ds = train_ds.map(lambda x: ((x/127.5)-1))"
   ]
  },
  {
   "cell_type": "markdown",
   "metadata": {},
   "source": [
    "<h1>Define Model</h1>"
   ]
  },
  {
   "cell_type": "code",
   "execution_count": 5,
   "metadata": {},
   "outputs": [],
   "source": [
    "init = tf.keras.initializers.RandomNormal(stddev=0.02)"
   ]
  },
  {
   "cell_type": "code",
   "execution_count": 6,
   "metadata": {},
   "outputs": [],
   "source": [
    "def build_generator(seed_size):\n",
    "    model = Sequential()\n",
    "  \n",
    "    model.add(Dense(4*4*1024,kernel_initializer=init,input_dim=seed_size))\n",
    "    model.add(BatchNormalization())\n",
    "    model.add(ReLU())\n",
    "    model.add(Reshape((4,4,1024))) \n",
    "\n",
    "    model.add(Conv2DTranspose(512,kernel_size=5,strides=2,padding='same',use_bias=False,kernel_initializer=init))\n",
    "    model.add(BatchNormalization())\n",
    "    model.add(ReLU())  \n",
    "\n",
    "    model.add(Conv2DTranspose(256,kernel_size=5,strides=2,padding='same',use_bias=False,kernel_initializer=init))\n",
    "    model.add(BatchNormalization())\n",
    "    model.add(ReLU()) \n",
    "\n",
    "    model.add(Conv2DTranspose(128,kernel_size=3,strides=2,padding='same',use_bias=False,kernel_initializer=init))\n",
    "    model.add(BatchNormalization())\n",
    "    model.add(ReLU()) \n",
    "\n",
    "    model.add(Conv2DTranspose(3,kernel_size=3,strides=2,padding='same',use_bias=False,kernel_initializer=init))\n",
    "    model.add(Activation('tanh'))\n",
    "\n",
    "    return model"
   ]
  },
  {
   "cell_type": "code",
   "execution_count": 7,
   "metadata": {},
   "outputs": [],
   "source": [
    "def build_discriminator(image_length,image_channels):\n",
    "    model = Sequential()\n",
    "  \n",
    "    model.add(Conv2D(64,kernel_size=3,strides=2,padding='same',use_bias=False,input_shape=(image_length,image_length,image_channels),kernel_initializer=init))\n",
    "    model.add(LeakyReLU(alpha=0.2)) #32,32,64\n",
    "\n",
    "    model.add(Conv2D(128,kernel_size=3,strides=2,padding='same',use_bias=False,kernel_initializer=init))\n",
    "    model.add(BatchNormalization())\n",
    "    model.add(LeakyReLU(alpha=0.2)) #16,16,128\n",
    "\n",
    "    model.add(Conv2D(256,kernel_size=5,strides=2,padding='same',use_bias=False,kernel_initializer=init))\n",
    "    model.add(BatchNormalization())\n",
    "    model.add(LeakyReLU(alpha=0.2)) #8,8,256\n",
    "\n",
    "    model.add(Conv2D(512,kernel_size=5,strides=2,padding='same',use_bias=False,kernel_initializer=init))\n",
    "    model.add(BatchNormalization())\n",
    "    model.add(LeakyReLU(alpha=0.2)) #4,4,512\n",
    "\n",
    "    model.add(Conv2D(1,kernel_size=4,strides=1,padding='valid',use_bias=False,kernel_initializer=init))\n",
    "    model.add(Flatten())\n",
    "    model.add(Activation('sigmoid'))\n",
    "\n",
    "    return model"
   ]
  },
  {
   "cell_type": "markdown",
   "metadata": {},
   "source": [
    "<h1>Define Loss</h1>"
   ]
  },
  {
   "cell_type": "code",
   "execution_count": 8,
   "metadata": {},
   "outputs": [],
   "source": [
    "cross_entropy = tf.keras.losses.BinaryCrossentropy()"
   ]
  },
  {
   "cell_type": "markdown",
   "metadata": {},
   "source": [
    "<h1>Define Train step</h1>"
   ]
  },
  {
   "cell_type": "code",
   "execution_count": 9,
   "metadata": {},
   "outputs": [],
   "source": [
    "class DCGAN(keras.Model):\n",
    "    def __init__(self,seed_size,image_length,image_channels,**kwargs):\n",
    "        super(DCGAN,self).__init__(**kwargs)\n",
    "\n",
    "        self.generator = build_generator(seed_size)\n",
    "        self.discriminator = build_discriminator(image_length,image_channels)\n",
    "        self.seed_size = seed_size\n",
    "        \n",
    "    def generator_loss(self,fake_output):\n",
    "        # Train generator to give realistic images and penalize it for giving images being classified as fake by the discriminator\n",
    "        return cross_entropy(tf.ones_like(fake_output), fake_output)\n",
    "\n",
    "    def discriminator_loss(self,real_output, fake_output):\n",
    "        \n",
    "        real_loss = cross_entropy(tf.ones_like(real_output), real_output) \n",
    "        fake_loss = cross_entropy(tf.zeros_like(fake_output), fake_output)\n",
    "        total_loss = real_loss + fake_loss\n",
    "        return total_loss\n",
    "    \n",
    "    def compile(self,generator_optimizer,discriminator_optimizer):\n",
    "        super(DCGAN, self).compile()\n",
    "        self.generator_optimizer = generator_optimizer\n",
    "        self.discriminator_optimizer = discriminator_optimizer\n",
    "        \n",
    "    @tf.function    \n",
    "    def train_step(self,data):\n",
    "        if isinstance(data, tuple):\n",
    "            data = data[0]\n",
    "            \n",
    "        batch_size = tf.shape(data)[0]\n",
    "        seed = tf.random.normal(shape=(batch_size,self.seed_size))\n",
    "        \n",
    "        with tf.GradientTape() as gen_tape, tf.GradientTape() as disc_tape:\n",
    "            #generate image using generator\n",
    "            generated_image = self.generator(seed, training = True)\n",
    "        \n",
    "            real_output = self.discriminator(data,training = True) #discriminator's prediction for real image\n",
    "            fake_output = self.discriminator(generated_image,training = True) #discriminator's estimate for fake image\n",
    "            \n",
    "            gen_loss = self.generator_loss(fake_output)\n",
    "            disc_loss = self.discriminator_loss(real_output,fake_output)\n",
    "\n",
    "            #optimize generator first\n",
    "            generator_grad = gen_tape.gradient(gen_loss,self.generator.trainable_variables)\n",
    "            discriminator_grad = disc_tape.gradient(disc_loss,self.discriminator.trainable_variables)\n",
    "\n",
    "            #optimize discriminator after generator\n",
    "            self.generator_optimizer.apply_gradients(zip(generator_grad,self.generator.trainable_variables))\n",
    "            self.discriminator_optimizer.apply_gradients(zip(discriminator_grad,self.discriminator.trainable_variables))\n",
    "        \n",
    "        return {\n",
    "            \"generator loss\": gen_loss,\n",
    "            \"discriminator_loss\": disc_loss\n",
    "        }"
   ]
  },
  {
   "cell_type": "code",
   "execution_count": 10,
   "metadata": {},
   "outputs": [],
   "source": [
    "# parameters and hyperparameters\n",
    "image_length = 64\n",
    "image_channels = 3\n",
    "batch_size = 128\n",
    "seed_size = 128\n",
    "\n",
    "PREVIEW_ROWS = 4  \n",
    "PREVIEW_COLS = 7\n",
    "PREVIEW_MARGIN = 16\n",
    "\n",
    "fixed_seed = tf.random.normal(shape=(PREVIEW_ROWS * PREVIEW_COLS, seed_size))"
   ]
  },
  {
   "cell_type": "code",
   "execution_count": 11,
   "metadata": {},
   "outputs": [],
   "source": [
    "generator_optimizer = Adam(learning_rate=0.0002,beta_1=0.5)\n",
    "discriminator_optimizer = Adam(learning_rate=0.0002,beta_1=0.5)\n",
    "\n",
    "# create an object of the model\n",
    "dcgan = DCGAN(seed_size,image_length,image_channels)\n",
    "dcgan.compile(generator_optimizer,discriminator_optimizer)"
   ]
  },
  {
   "cell_type": "markdown",
   "metadata": {},
   "source": [
    "The model uses two custom callbacks from the file located in \"utils/callbacks.py\""
   ]
  },
  {
   "cell_type": "code",
   "execution_count": 12,
   "metadata": {
    "scrolled": false
   },
   "outputs": [
    {
     "name": "stdout",
     "output_type": "stream",
     "text": [
      "Epoch 1/30\n",
      "169/169 [==============================] - 196s 1s/step - generator loss: 2.1964 - discriminator_loss: 0.9833\n",
      "Epoch 2/30\n",
      "169/169 [==============================] - 59s 348ms/step - generator loss: 2.1558 - discriminator_loss: 1.1043\n",
      "Epoch 3/30\n",
      "169/169 [==============================] - 59s 349ms/step - generator loss: 2.2901 - discriminator_loss: 1.0234\n",
      "Epoch 4/30\n",
      "169/169 [==============================] - 59s 348ms/step - generator loss: 2.4123 - discriminator_loss: 0.9786\n",
      "Epoch 5/30\n",
      "169/169 [==============================] - 59s 350ms/step - generator loss: 2.5583 - discriminator_loss: 0.9682\n",
      "Epoch 6/30\n",
      "169/169 [==============================] - 59s 350ms/step - generator loss: 2.3579 - discriminator_loss: 1.0192\n",
      "Epoch 7/30\n",
      "169/169 [==============================] - 59s 349ms/step - generator loss: 2.2637 - discriminator_loss: 1.0458\n",
      "Epoch 8/30\n",
      "169/169 [==============================] - 59s 349ms/step - generator loss: 2.2703 - discriminator_loss: 1.0227\n",
      "Epoch 9/30\n",
      "169/169 [==============================] - 59s 350ms/step - generator loss: 2.2801 - discriminator_loss: 0.9914\n",
      "Epoch 10/30\n",
      "169/169 [==============================] - 59s 349ms/step - generator loss: 2.3674 - discriminator_loss: 0.9798\n",
      "Epoch 11/30\n",
      "169/169 [==============================] - 59s 349ms/step - generator loss: 2.3338 - discriminator_loss: 0.9707\n",
      "Epoch 12/30\n",
      "169/169 [==============================] - 59s 349ms/step - generator loss: 2.3956 - discriminator_loss: 0.9587\n",
      "Epoch 13/30\n",
      "169/169 [==============================] - 59s 349ms/step - generator loss: 2.4983 - discriminator_loss: 0.9370\n",
      "Epoch 14/30\n",
      "169/169 [==============================] - 61s 358ms/step - generator loss: 2.4906 - discriminator_loss: 0.9258\n",
      "Epoch 15/30\n",
      "169/169 [==============================] - 61s 361ms/step - generator loss: 2.4046 - discriminator_loss: 0.9450\n",
      "Epoch 16/30\n",
      "169/169 [==============================] - 60s 358ms/step - generator loss: 2.4042 - discriminator_loss: 0.9245\n",
      "Epoch 17/30\n",
      "169/169 [==============================] - 61s 359ms/step - generator loss: 2.4937 - discriminator_loss: 0.9241\n",
      "Epoch 18/30\n",
      "169/169 [==============================] - 61s 361ms/step - generator loss: 2.4501 - discriminator_loss: 0.8864\n",
      "Epoch 19/30\n",
      "169/169 [==============================] - 61s 360ms/step - generator loss: 2.5692 - discriminator_loss: 0.8989\n",
      "Epoch 20/30\n",
      "169/169 [==============================] - 62s 365ms/step - generator loss: 2.5053 - discriminator_loss: 0.8653\n",
      "Epoch 21/30\n",
      "169/169 [==============================] - 60s 354ms/step - generator loss: 2.5193 - discriminator_loss: 0.8823\n",
      "Epoch 22/30\n",
      "169/169 [==============================] - 59s 350ms/step - generator loss: 2.5029 - discriminator_loss: 0.8667\n",
      "Epoch 23/30\n",
      "169/169 [==============================] - 59s 349ms/step - generator loss: 2.6138 - discriminator_loss: 0.8572\n",
      "Epoch 24/30\n",
      "169/169 [==============================] - 59s 349ms/step - generator loss: 2.5635 - discriminator_loss: 0.8340\n",
      "Epoch 25/30\n",
      "169/169 [==============================] - 59s 349ms/step - generator loss: 2.7038 - discriminator_loss: 0.8427\n",
      "Epoch 26/30\n",
      "169/169 [==============================] - 61s 361ms/step - generator loss: 2.6432 - discriminator_loss: 0.8079\n",
      "Epoch 27/30\n",
      "169/169 [==============================] - 59s 349ms/step - generator loss: 2.7421 - discriminator_loss: 0.8181\n",
      "Epoch 28/30\n",
      "169/169 [==============================] - 61s 363ms/step - generator loss: 2.6112 - discriminator_loss: 0.8361\n",
      "Epoch 29/30\n",
      "169/169 [==============================] - 61s 359ms/step - generator loss: 2.7782 - discriminator_loss: 0.8196\n",
      "Epoch 30/30\n",
      "169/169 [==============================] - 61s 361ms/step - generator loss: 2.7639 - discriminator_loss: 0.8144\n"
     ]
    }
   ],
   "source": [
    "with tf.device('/GPU:0'):\n",
    "    #dcgan.generator.load_weights(\"Weights/generator_weights.h5\")\n",
    "    #dcgan.discriminator.load_weights(\"Weights/discriminator_weights.h5\")\n",
    "    history = dcgan.fit(train_ds,epochs=30,batch_size=batch_size,\n",
    "                        callbacks=[\n",
    "                            save_images(noise=fixed_seed,preview_rows=PREVIEW_ROWS,preview_cols=PREVIEW_COLS,preview_margin=PREVIEW_MARGIN),\n",
    "                            checkpoint_callback()\n",
    "                        ])"
   ]
  },
  {
   "cell_type": "code",
   "execution_count": null,
   "metadata": {},
   "outputs": [],
   "source": []
  }
 ],
 "metadata": {
  "kernelspec": {
   "display_name": "Python 3",
   "language": "python",
   "name": "python3"
  },
  "language_info": {
   "codemirror_mode": {
    "name": "ipython",
    "version": 3
   },
   "file_extension": ".py",
   "mimetype": "text/x-python",
   "name": "python",
   "nbconvert_exporter": "python",
   "pygments_lexer": "ipython3",
   "version": "3.8.5"
  }
 },
 "nbformat": 4,
 "nbformat_minor": 4
}
